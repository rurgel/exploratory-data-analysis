{
 "cells": [
  {
   "cell_type": "markdown",
   "metadata": {},
   "source": [
    "# Adventure Works\n",
    "## Análise Exploratória\n",
    "\n",
    "[Rafael Gurgel](https://github.com/rurgel)"
   ]
  },
  {
   "cell_type": "markdown",
   "metadata": {},
   "source": [
    "### Obtém a base de dados\n",
    "\n",
    "O desafio solicita a análise utilizando a biblioteca Pandas.\n",
    "\n",
    "Entretanto para analisar uma maior quantidade de dados e variáveis, buscou-se a fonte da base original, na Microsoft. Esses dados foram preparados para o uso em um banco SQL. Sendo assim, foi preciso criar um script adicional para carregar os dados no pandas.\n",
    "\n",
    "Alternativamente, é possível criar uma infraestrutura de banco de dados, carregando um servidor no container e populando o banco de dados. Entretanto isso diverge do objetivo da análise exploratória dos dados. "
   ]
  },
  {
   "cell_type": "code",
   "execution_count": 13,
   "metadata": {},
   "outputs": [],
   "source": [
    "import pandas as pd\n",
    "import re\n",
    "\n",
    "from pathlib import Path\n",
    "datapath = Path('input/AdventureWorks-oltp-install-script')\n",
    "\n",
    "def get_table(tabname, datapath, sep='\\t'):\n",
    "    with open(datapath/'instawdb.sql', 'r', encoding='UTF-16') as file:\n",
    "        sql_header = file.read()\n",
    "    s = re.search(fr'CREATE TABLE \\[[^\\[]*\\][.]\\[{tabname}\\].*?GO', \n",
    "                  sql_header, \n",
    "                  flags=re.DOTALL)\n",
    "    colnames = re.findall('^\\s{4}\\[(.*?)\\]', s[0], flags=re.MULTILINE)\n",
    "    df = pd.read_csv(datapath / f'{tabname}.csv', \n",
    "                     sep=sep, \n",
    "                     encoding = 'ISO-8859-1', \n",
    "                     header=None, \n",
    "                     names=colnames)\n",
    "    return df\n",
    "\n",
    "\n",
    "tables = ['SalesOrderHeader', \n",
    "          'SalesOrderHeaderSalesReason']\n",
    "df = {tabname: get_table(tabname, datapath) for tabname in tables}"
   ]
  },
  {
   "cell_type": "markdown",
   "metadata": {},
   "source": [
    "### Indicadores básicos"
   ]
  },
  {
   "cell_type": "markdown",
   "metadata": {},
   "source": [
    "#### Portifólio de vendas"
   ]
  },
  {
   "cell_type": "markdown",
   "metadata": {},
   "source": [
    "#### Lucro e Receitas"
   ]
  },
  {
   "cell_type": "markdown",
   "metadata": {},
   "source": [
    "#### Produtos mais rentáveis"
   ]
  },
  {
   "cell_type": "markdown",
   "metadata": {},
   "source": [
    "### Análise dos clientes"
   ]
  },
  {
   "cell_type": "markdown",
   "metadata": {},
   "source": [
    "#### Tipos de clientes\n",
    "\n",
    "##### Localização\n",
    "\n",
    "##### Lucratividade total e média por tipo de cliente\n",
    "\n",
    "##### Segmento mais requisitado por cada tipo de cliente\n",
    "\n",
    "##### Forma de pagamento mais utilizada"
   ]
  },
  {
   "cell_type": "markdown",
   "metadata": {},
   "source": [
    "### Insights Estratégicos\n",
    "\n",
    "#### Relação do perfil demográfico com preferência por produtos vendidos, lucratividade média e total dos grupos, tendência a comprar durante promoções.\n",
    "\n",
    "#### Influenciadores para compras\n",
    "\n",
    "#### Efeito dos descontos (por transação e unidades)\n",
    "\n",
    "#### Taxa de cambio\n",
    "\n",
    "#### Sazonalidade (% de venda de um produto em relação ao total de vendas foi maior em algum período?)\n",
    "\n",
    "#### Relação Tempo Médio de envio x Região x Quantidade de vendas"
   ]
  }
 ],
 "metadata": {
  "kernelspec": {
   "display_name": "Python 3.9.15 ('.venv': venv)",
   "language": "python",
   "name": "python3"
  },
  "language_info": {
   "codemirror_mode": {
    "name": "ipython",
    "version": 3
   },
   "file_extension": ".py",
   "mimetype": "text/x-python",
   "name": "python",
   "nbconvert_exporter": "python",
   "pygments_lexer": "ipython3",
   "version": "3.9.15"
  },
  "orig_nbformat": 4,
  "vscode": {
   "interpreter": {
    "hash": "f9b3b327d593c7a69636141d0d0440d542bedf87453cdbbc42a336145ae54bdb"
   }
  }
 },
 "nbformat": 4,
 "nbformat_minor": 2
}
